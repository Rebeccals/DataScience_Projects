{
  "nbformat": 4,
  "nbformat_minor": 0,
  "metadata": {
    "colab": {
      "provenance": [],
      "toc_visible": true,
      "authorship_tag": "ABX9TyPYG6cMcazZ7O7N8yJykUoI",
      "include_colab_link": true
    },
    "kernelspec": {
      "name": "python3",
      "display_name": "Python 3"
    },
    "language_info": {
      "name": "python"
    }
  },
  "cells": [
    {
      "cell_type": "markdown",
      "metadata": {
        "id": "view-in-github",
        "colab_type": "text"
      },
      "source": [
        "<a href=\"https://colab.research.google.com/github/Rebeccals/DataScience_Projects/blob/Amex-GuestAnalysis/amex_guestAnalysis_rls.ipynb\" target=\"_parent\"><img src=\"https://colab.research.google.com/assets/colab-badge.svg\" alt=\"Open In Colab\"/></a>"
      ]
    },
    {
      "cell_type": "markdown",
      "source": [
        "# Import Libraries & Load Data"
      ],
      "metadata": {
        "id": "5_SYiMsxNCBv"
      }
    },
    {
      "cell_type": "code",
      "execution_count": null,
      "metadata": {
        "id": "x1zq7_UAIa66"
      },
      "outputs": [],
      "source": [
        "import pandas as pd\n",
        "import numpy as np\n",
        "import seaborn as sns\n",
        "import matplotlib.pyplot as plt"
      ]
    },
    {
      "cell_type": "code",
      "source": [
        "df_users = pd.read_csv(\"data/users.csv\")\n",
        "df_products = pd.read_csv(\"data/products.csv\")\n",
        "df_order_items = pd.read_csv(\"data/order_items.csv\")\n",
        "df_orders = pd.read_csv(\"data/orders.csv\")\n",
        "df_events = pd.read_csv(\"data/events.csv\")"
      ],
      "metadata": {
        "id": "sc8dRJPgJQ_E"
      },
      "execution_count": null,
      "outputs": []
    },
    {
      "cell_type": "markdown",
      "source": [
        "# Merging Datasets"
      ],
      "metadata": {
        "id": "XTh1PaS4JfXX"
      }
    },
    {
      "cell_type": "code",
      "source": [],
      "metadata": {
        "id": "fT8PLDtPKNfs"
      },
      "execution_count": null,
      "outputs": []
    },
    {
      "cell_type": "code",
      "source": [],
      "metadata": {
        "id": "-Et5wkHUKOAw"
      },
      "execution_count": null,
      "outputs": []
    },
    {
      "cell_type": "code",
      "source": [],
      "metadata": {
        "id": "lIvqKrYpLe0N"
      },
      "execution_count": null,
      "outputs": []
    },
    {
      "cell_type": "code",
      "source": [],
      "metadata": {
        "id": "zDaDsaLwLfFj"
      },
      "execution_count": null,
      "outputs": []
    },
    {
      "cell_type": "markdown",
      "source": [
        "# Cleaning & Normalizing The Data"
      ],
      "metadata": {
        "id": "bMTKCxn6LPPu"
      }
    },
    {
      "cell_type": "code",
      "source": [],
      "metadata": {
        "id": "2e7A848zLdb4"
      },
      "execution_count": null,
      "outputs": []
    },
    {
      "cell_type": "code",
      "source": [],
      "metadata": {
        "id": "B80Tr7mwLdrx"
      },
      "execution_count": null,
      "outputs": []
    },
    {
      "cell_type": "code",
      "source": [],
      "metadata": {
        "id": "TcfmsIU4Lfu3"
      },
      "execution_count": null,
      "outputs": []
    },
    {
      "cell_type": "code",
      "source": [],
      "metadata": {
        "id": "QDif3M6SLfyI"
      },
      "execution_count": null,
      "outputs": []
    }
  ]
}